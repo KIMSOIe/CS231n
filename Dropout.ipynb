{
  "cells": [
    {
      "cell_type": "markdown",
      "metadata": {
        "id": "view-in-github",
        "colab_type": "text"
      },
      "source": [
        "<a href=\"https://colab.research.google.com/github/KIMSOIe/CS231n/blob/main/Dropout.ipynb\" target=\"_parent\"><img src=\"https://colab.research.google.com/assets/colab-badge.svg\" alt=\"Open In Colab\"/></a>"
      ]
    },
    {
      "cell_type": "code",
      "execution_count": 1,
      "metadata": {
        "colab": {
          "base_uri": "https://localhost:8080/"
        },
        "id": "PRWmUlPRLohq",
        "outputId": "723acf3c-b9f3-4626-98ba-50600403f3d8"
      },
      "outputs": [
        {
          "output_type": "stream",
          "name": "stdout",
          "text": [
            "Mounted at /content/drive\n",
            "/content/drive/My Drive/cs231n/assignments/assignment2/cs231n/datasets\n",
            "/content/drive/My Drive/cs231n/assignments/assignment2\n"
          ]
        }
      ],
      "source": [
        "# This mounts your Google Drive to the Colab VM.\n",
        "from google.colab import drive\n",
        "drive.mount('/content/drive')\n",
        "\n",
        "# TODO: Enter the foldername in your Drive where you have saved the unzipped\n",
        "# assignment folder, e.g. 'cs231n/assignments/assignment2/'\n",
        "FOLDERNAME = 'cs231n/assignments/assignment2/'\n",
        "assert FOLDERNAME is not None, \"[!] Enter the foldername.\"\n",
        "\n",
        "# Now that we've mounted your Drive, this ensures that\n",
        "# the Python interpreter of the Colab VM can load\n",
        "# python files from within it.\n",
        "import sys\n",
        "sys.path.append('/content/drive/My Drive/{}'.format(FOLDERNAME))\n",
        "\n",
        "# This downloads the CIFAR-10 dataset to your Drive\n",
        "# if it doesn't already exist.\n",
        "%cd /content/drive/My\\ Drive/$FOLDERNAME/cs231n/datasets/\n",
        "!bash get_datasets.sh\n",
        "%cd /content/drive/My\\ Drive/$FOLDERNAME"
      ]
    },
    {
      "cell_type": "markdown",
      "metadata": {
        "tags": [
          "pdf-title"
        ],
        "id": "fhV8qTKLLoht"
      },
      "source": [
        "# Dropout\n",
        "Dropout [1] is a technique for regularizing neural networks by randomly setting some output activations to zero during the forward pass. In this exercise, you will implement a dropout layer and modify your fully connected network to optionally use dropout.\n",
        "\n",
        "[1] [Geoffrey E. Hinton et al, \"Improving neural networks by preventing co-adaptation of feature detectors\", arXiv 2012](https://arxiv.org/abs/1207.0580)"
      ]
    },
    {
      "cell_type": "code",
      "execution_count": 2,
      "metadata": {
        "tags": [
          "pdf-ignore"
        ],
        "id": "pWUIGstvLohu"
      },
      "outputs": [],
      "source": [
        "# Setup cell.\n",
        "import time\n",
        "import numpy as np\n",
        "import matplotlib.pyplot as plt\n",
        "from cs231n.classifiers.fc_net import *\n",
        "from cs231n.data_utils import get_CIFAR10_data\n",
        "from cs231n.gradient_check import eval_numerical_gradient, eval_numerical_gradient_array\n",
        "from cs231n.solver import Solver\n",
        "\n",
        "%matplotlib inline\n",
        "plt.rcParams[\"figure.figsize\"] = (10.0, 8.0)  # Set default size of plots.\n",
        "plt.rcParams[\"image.interpolation\"] = \"nearest\"\n",
        "plt.rcParams[\"image.cmap\"] = \"gray\"\n",
        "\n",
        "%load_ext autoreload\n",
        "%autoreload 2\n",
        "\n",
        "def rel_error(x, y):\n",
        "    \"\"\"Returns relative error.\"\"\"\n",
        "    return np.max(np.abs(x - y) / (np.maximum(1e-8, np.abs(x) + np.abs(y))))"
      ]
    },
    {
      "cell_type": "code",
      "execution_count": 3,
      "metadata": {
        "tags": [
          "pdf-ignore"
        ],
        "colab": {
          "base_uri": "https://localhost:8080/"
        },
        "id": "wAAwn82ALohu",
        "outputId": "46e3d729-b3bb-4d71-abf9-a963e310c341"
      },
      "outputs": [
        {
          "output_type": "stream",
          "name": "stdout",
          "text": [
            "X_train: (49000, 3, 32, 32)\n",
            "y_train: (49000,)\n",
            "X_val: (1000, 3, 32, 32)\n",
            "y_val: (1000,)\n",
            "X_test: (1000, 3, 32, 32)\n",
            "y_test: (1000,)\n"
          ]
        }
      ],
      "source": [
        "# Load the (preprocessed) CIFAR-10 data.\n",
        "data = get_CIFAR10_data()\n",
        "for k, v in list(data.items()):\n",
        "    print(f\"{k}: {v.shape}\")"
      ]
    },
    {
      "cell_type": "markdown",
      "metadata": {
        "id": "8VVn2EkoLohu"
      },
      "source": [
        "# Dropout: Forward Pass\n",
        "In the file `cs231n/layers.py`, implement the forward pass for dropout. Since dropout behaves differently during training and testing, make sure to implement the operation for both modes.\n",
        "\n",
        "Once you have done so, run the cell below to test your implementation."
      ]
    },
    {
      "cell_type": "code",
      "execution_count": 4,
      "metadata": {
        "colab": {
          "base_uri": "https://localhost:8080/"
        },
        "id": "HD-_3xnFLohv",
        "outputId": "ea68103b-d435-4c8b-d67c-100d8ee979d2"
      },
      "outputs": [
        {
          "output_type": "stream",
          "name": "stdout",
          "text": [
            "Running tests with p =  0.25\n",
            "Mean of input:  10.000207878477502\n",
            "Mean of train-time output:  10.014059116977283\n",
            "Mean of test-time output:  10.000207878477502\n",
            "Fraction of train-time output set to zero:  0.749784\n",
            "Fraction of test-time output set to zero:  0.0\n",
            "\n",
            "Running tests with p =  0.4\n",
            "Mean of input:  10.000207878477502\n",
            "Mean of train-time output:  9.977917658761159\n",
            "Mean of test-time output:  10.000207878477502\n",
            "Fraction of train-time output set to zero:  0.600796\n",
            "Fraction of test-time output set to zero:  0.0\n",
            "\n",
            "Running tests with p =  0.7\n",
            "Mean of input:  10.000207878477502\n",
            "Mean of train-time output:  9.987811912159426\n",
            "Mean of test-time output:  10.000207878477502\n",
            "Fraction of train-time output set to zero:  0.30074\n",
            "Fraction of test-time output set to zero:  0.0\n",
            "\n"
          ]
        }
      ],
      "source": [
        "np.random.seed(231)\n",
        "x = np.random.randn(500, 500) + 10\n",
        "\n",
        "for p in [0.25, 0.4, 0.7]:\n",
        "    out, _ = dropout_forward(x, {'mode': 'train', 'p': p})\n",
        "    out_test, _ = dropout_forward(x, {'mode': 'test', 'p': p})\n",
        "\n",
        "    print('Running tests with p = ', p)\n",
        "    print('Mean of input: ', x.mean())\n",
        "    print('Mean of train-time output: ', out.mean())\n",
        "    print('Mean of test-time output: ', out_test.mean())\n",
        "    print('Fraction of train-time output set to zero: ', (out == 0).mean())\n",
        "    print('Fraction of test-time output set to zero: ', (out_test == 0).mean())\n",
        "    print()"
      ]
    },
    {
      "cell_type": "markdown",
      "metadata": {
        "id": "uZkcz7pYLohv"
      },
      "source": [
        "# Dropout: Backward Pass\n",
        "In the file `cs231n/layers.py`, implement the backward pass for dropout. After doing so, run the following cell to numerically gradient-check your implementation."
      ]
    },
    {
      "cell_type": "code",
      "execution_count": 5,
      "metadata": {
        "colab": {
          "base_uri": "https://localhost:8080/"
        },
        "id": "OlZW23shLohv",
        "outputId": "4bb4e83b-50c6-4078-d380-1b5aa8fcc555"
      },
      "outputs": [
        {
          "output_type": "stream",
          "name": "stdout",
          "text": [
            "dx relative error:  5.44560814873387e-11\n"
          ]
        }
      ],
      "source": [
        "np.random.seed(231)\n",
        "x = np.random.randn(10, 10) + 10\n",
        "dout = np.random.randn(*x.shape)\n",
        "\n",
        "dropout_param = {'mode': 'train', 'p': 0.2, 'seed': 123}\n",
        "out, cache = dropout_forward(x, dropout_param)\n",
        "dx = dropout_backward(dout, cache)\n",
        "dx_num = eval_numerical_gradient_array(lambda xx: dropout_forward(xx, dropout_param)[0], x, dout)\n",
        "\n",
        "# Error should be around e-10 or less.\n",
        "print('dx relative error: ', rel_error(dx, dx_num))"
      ]
    },
    {
      "cell_type": "markdown",
      "metadata": {
        "tags": [
          "pdf-inline"
        ],
        "id": "WX_lfjpWLohw"
      },
      "source": [
        "## Inline Question 1:\n",
        "What happens if we do not divide the values being passed through inverse dropout by `p` in the dropout layer? Why does that happen?\n",
        "\n",
        "## Answer:\n",
        "[FILL THIS IN]\n"
      ]
    },
    {
      "cell_type": "markdown",
      "metadata": {
        "id": "67eO-49_Lohw"
      },
      "source": [
        "# Fully Connected Networks with Dropout\n",
        "In the file `cs231n/classifiers/fc_net.py`, modify your implementation to use dropout. Specifically, if the constructor of the network receives a value that is not 1 for the `dropout_keep_ratio` parameter, then the net should add a dropout layer immediately after every ReLU nonlinearity. After doing so, run the following to numerically gradient-check your implementation."
      ]
    },
    {
      "cell_type": "code",
      "execution_count": 6,
      "metadata": {
        "colab": {
          "base_uri": "https://localhost:8080/"
        },
        "id": "zMoL52SyLohw",
        "outputId": "51e46460-e0c2-4286-901d-9847461f1542"
      },
      "outputs": [
        {
          "output_type": "stream",
          "name": "stdout",
          "text": [
            "Running check with dropout =  1\n",
            "Initial loss:  2.3004790897684924\n",
            "W1 relative error: 7.70e-08\n",
            "W2 relative error: 1.71e-05\n",
            "W3 relative error: 2.95e-07\n",
            "b1 relative error: 4.66e-09\n",
            "b2 relative error: 2.09e-09\n",
            "b3 relative error: 6.60e-11\n",
            "\n",
            "Running check with dropout =  0.75\n",
            "Initial loss:  2.302371489704412\n",
            "W1 relative error: 1.85e-07\n",
            "W2 relative error: 2.15e-06\n",
            "W3 relative error: 4.56e-08\n",
            "b1 relative error: 1.16e-08\n",
            "b2 relative error: 1.82e-09\n",
            "b3 relative error: 1.40e-10\n",
            "\n",
            "Running check with dropout =  0.5\n",
            "Initial loss:  2.30427592207859\n",
            "W1 relative error: 3.11e-07\n",
            "W2 relative error: 5.55e-08\n",
            "W3 relative error: 6.47e-08\n",
            "b1 relative error: 2.58e-08\n",
            "b2 relative error: 1.91e-09\n",
            "b3 relative error: 9.31e-11\n",
            "\n"
          ]
        }
      ],
      "source": [
        "np.random.seed(231)\n",
        "N, D, H1, H2, C = 2, 15, 20, 30, 10\n",
        "X = np.random.randn(N, D)\n",
        "y = np.random.randint(C, size=(N,))\n",
        "\n",
        "for dropout_keep_ratio in [1, 0.75, 0.5]:\n",
        "    print('Running check with dropout = ', dropout_keep_ratio)\n",
        "    model = FullyConnectedNet(\n",
        "        [H1, H2],\n",
        "        input_dim=D,\n",
        "        num_classes=C,\n",
        "        weight_scale=5e-2,\n",
        "        dtype=np.float64,\n",
        "        dropout_keep_ratio=dropout_keep_ratio,\n",
        "        seed=123\n",
        "    )\n",
        "\n",
        "    loss, grads = model.loss(X, y)\n",
        "    print('Initial loss: ', loss)\n",
        "\n",
        "    # Relative errors should be around e-6 or less.\n",
        "    # Note that it's fine if for dropout_keep_ratio=1 you have W2 error be on the order of e-5.\n",
        "    for name in sorted(grads):\n",
        "        f = lambda _: model.loss(X, y)[0]\n",
        "        grad_num = eval_numerical_gradient(f, model.params[name], verbose=False, h=1e-5)\n",
        "        print('%s relative error: %.2e' % (name, rel_error(grad_num, grads[name])))\n",
        "    print()"
      ]
    },
    {
      "cell_type": "markdown",
      "metadata": {
        "id": "KyzPTfP7Lohw"
      },
      "source": [
        "# Regularization Experiment\n",
        "As an experiment, we will train a pair of two-layer networks on 500 training examples: one will use no dropout, and one will use a keep probability of 0.25. We will then visualize the training and validation accuracies of the two networks over time."
      ]
    },
    {
      "cell_type": "code",
      "execution_count": 7,
      "metadata": {
        "scrolled": false,
        "colab": {
          "base_uri": "https://localhost:8080/"
        },
        "id": "rKsSwcilLohx",
        "outputId": "e1391124-1c17-4701-ff40-d279aba38189"
      },
      "outputs": [
        {
          "output_type": "stream",
          "name": "stdout",
          "text": [
            "1\n",
            "(Iteration 1 / 125) loss: 7.856643\n",
            "(Epoch 0 / 25) train acc: 0.158000; val_acc: 0.139000\n",
            "(Epoch 1 / 25) train acc: 0.372000; val_acc: 0.220000\n",
            "(Epoch 2 / 25) train acc: 0.512000; val_acc: 0.286000\n",
            "(Epoch 3 / 25) train acc: 0.648000; val_acc: 0.290000\n",
            "(Epoch 4 / 25) train acc: 0.728000; val_acc: 0.270000\n",
            "(Epoch 5 / 25) train acc: 0.816000; val_acc: 0.273000\n",
            "(Epoch 6 / 25) train acc: 0.862000; val_acc: 0.256000\n",
            "(Epoch 7 / 25) train acc: 0.880000; val_acc: 0.251000\n",
            "(Epoch 8 / 25) train acc: 0.912000; val_acc: 0.287000\n",
            "(Epoch 9 / 25) train acc: 0.960000; val_acc: 0.306000\n",
            "(Epoch 10 / 25) train acc: 0.968000; val_acc: 0.279000\n",
            "(Epoch 11 / 25) train acc: 0.974000; val_acc: 0.290000\n",
            "(Epoch 12 / 25) train acc: 0.988000; val_acc: 0.311000\n",
            "(Epoch 13 / 25) train acc: 0.998000; val_acc: 0.312000\n",
            "(Epoch 14 / 25) train acc: 0.998000; val_acc: 0.312000\n",
            "(Epoch 15 / 25) train acc: 0.998000; val_acc: 0.301000\n",
            "(Epoch 16 / 25) train acc: 1.000000; val_acc: 0.309000\n",
            "(Epoch 17 / 25) train acc: 1.000000; val_acc: 0.308000\n",
            "(Epoch 18 / 25) train acc: 1.000000; val_acc: 0.303000\n",
            "(Epoch 19 / 25) train acc: 1.000000; val_acc: 0.304000\n",
            "(Epoch 20 / 25) train acc: 1.000000; val_acc: 0.305000\n",
            "(Iteration 101 / 125) loss: 0.002092\n",
            "(Epoch 21 / 25) train acc: 1.000000; val_acc: 0.302000\n",
            "(Epoch 22 / 25) train acc: 1.000000; val_acc: 0.304000\n",
            "(Epoch 23 / 25) train acc: 1.000000; val_acc: 0.306000\n",
            "(Epoch 24 / 25) train acc: 1.000000; val_acc: 0.303000\n",
            "(Epoch 25 / 25) train acc: 1.000000; val_acc: 0.303000\n",
            "\n",
            "0.25\n",
            "(Iteration 1 / 125) loss: 17.318478\n",
            "(Epoch 0 / 25) train acc: 0.138000; val_acc: 0.115000\n",
            "(Epoch 1 / 25) train acc: 0.236000; val_acc: 0.194000\n",
            "(Epoch 2 / 25) train acc: 0.382000; val_acc: 0.248000\n",
            "(Epoch 3 / 25) train acc: 0.490000; val_acc: 0.274000\n",
            "(Epoch 4 / 25) train acc: 0.536000; val_acc: 0.299000\n",
            "(Epoch 5 / 25) train acc: 0.586000; val_acc: 0.307000\n",
            "(Epoch 6 / 25) train acc: 0.670000; val_acc: 0.315000\n",
            "(Epoch 7 / 25) train acc: 0.712000; val_acc: 0.312000\n",
            "(Epoch 8 / 25) train acc: 0.730000; val_acc: 0.309000\n",
            "(Epoch 9 / 25) train acc: 0.740000; val_acc: 0.296000\n",
            "(Epoch 10 / 25) train acc: 0.766000; val_acc: 0.313000\n",
            "(Epoch 11 / 25) train acc: 0.784000; val_acc: 0.310000\n",
            "(Epoch 12 / 25) train acc: 0.792000; val_acc: 0.294000\n",
            "(Epoch 13 / 25) train acc: 0.810000; val_acc: 0.299000\n",
            "(Epoch 14 / 25) train acc: 0.850000; val_acc: 0.332000\n",
            "(Epoch 15 / 25) train acc: 0.868000; val_acc: 0.328000\n",
            "(Epoch 16 / 25) train acc: 0.884000; val_acc: 0.312000\n",
            "(Epoch 17 / 25) train acc: 0.866000; val_acc: 0.308000\n",
            "(Epoch 18 / 25) train acc: 0.892000; val_acc: 0.322000\n",
            "(Epoch 19 / 25) train acc: 0.890000; val_acc: 0.326000\n",
            "(Epoch 20 / 25) train acc: 0.896000; val_acc: 0.312000\n",
            "(Iteration 101 / 125) loss: 2.414075\n",
            "(Epoch 21 / 25) train acc: 0.902000; val_acc: 0.300000\n",
            "(Epoch 22 / 25) train acc: 0.922000; val_acc: 0.298000\n",
            "(Epoch 23 / 25) train acc: 0.900000; val_acc: 0.290000\n",
            "(Epoch 24 / 25) train acc: 0.928000; val_acc: 0.306000\n",
            "(Epoch 25 / 25) train acc: 0.946000; val_acc: 0.333000\n",
            "\n"
          ]
        }
      ],
      "source": [
        "# Train two identical nets, one with dropout and one without.\n",
        "np.random.seed(231)\n",
        "num_train = 500\n",
        "small_data = {\n",
        "    'X_train': data['X_train'][:num_train],\n",
        "    'y_train': data['y_train'][:num_train],\n",
        "    'X_val': data['X_val'],\n",
        "    'y_val': data['y_val'],\n",
        "}\n",
        "\n",
        "solvers = {}\n",
        "dropout_choices = [1, 0.25]\n",
        "for dropout_keep_ratio in dropout_choices:\n",
        "    model = FullyConnectedNet(\n",
        "        [500],\n",
        "        dropout_keep_ratio=dropout_keep_ratio\n",
        "    )\n",
        "    print(dropout_keep_ratio)\n",
        "\n",
        "    solver = Solver(\n",
        "        model,\n",
        "        small_data,\n",
        "        num_epochs=25,\n",
        "        batch_size=100,\n",
        "        update_rule='adam',\n",
        "        optim_config={'learning_rate': 1e-4,},\n",
        "        verbose=True,\n",
        "        print_every=100\n",
        "    )\n",
        "    solver.train()\n",
        "    solvers[dropout_keep_ratio] = solver\n",
        "    print()"
      ]
    },
    {
      "cell_type": "code",
      "execution_count": 8,
      "metadata": {
        "colab": {
          "base_uri": "https://localhost:8080/",
          "height": 849
        },
        "id": "hXjjoV1SLohx",
        "outputId": "bd9d4444-8c1e-480e-f8a4-276a439f58bc"
      },
      "outputs": [
        {
          "output_type": "display_data",
          "data": {
            "text/plain": [
              "<Figure size 1500x1500 with 2 Axes>"
            ],
            "image/png": "[encoded data removed]"
          },
          "metadata": {}
        }
      ],
      "source": [
        "# Plot train and validation accuracies of the two models.\n",
        "train_accs = []\n",
        "val_accs = []\n",
        "for dropout_keep_ratio in dropout_choices:\n",
        "    solver = solvers[dropout_keep_ratio]\n",
        "    train_accs.append(solver.train_acc_history[-1])\n",
        "    val_accs.append(solver.val_acc_history[-1])\n",
        "\n",
        "plt.subplot(3, 1, 1)\n",
        "for dropout_keep_ratio in dropout_choices:\n",
        "    plt.plot(\n",
        "        solvers[dropout_keep_ratio].train_acc_history, 'o', label='%.2f dropout_keep_ratio' % dropout_keep_ratio)\n",
        "plt.title('Train accuracy')\n",
        "plt.xlabel('Epoch')\n",
        "plt.ylabel('Accuracy')\n",
        "plt.legend(ncol=2, loc='lower right')\n",
        "  \n",
        "plt.subplot(3, 1, 2)\n",
        "for dropout_keep_ratio in dropout_choices:\n",
        "    plt.plot(\n",
        "        solvers[dropout_keep_ratio].val_acc_history, 'o', label='%.2f dropout_keep_ratio' % dropout_keep_ratio)\n",
        "plt.title('Val accuracy')\n",
        "plt.xlabel('Epoch')\n",
        "plt.ylabel('Accuracy')\n",
        "plt.legend(ncol=2, loc='lower right')\n",
        "\n",
        "plt.gcf().set_size_inches(15, 15)\n",
        "plt.show()"
      ]
    },
    {
      "cell_type": "markdown",
      "metadata": {
        "tags": [
          "pdf-inline"
        ],
        "id": "Osix9KxFLohx"
      },
      "source": [
        "## Inline Question 2:\n",
        "Compare the validation and training accuracies with and without dropout -- what do your results suggest about dropout as a regularizer?\n",
        "\n",
        "## Answer:\n",
        "[FILL THIS IN]\n"
      ]
    }
  ],
  "metadata": {
    "colab": {
      "provenance": [],
      "include_colab_link": true
    },
    "language_info": {
      "name": "python"
    },
    "kernelspec": {
      "name": "python3",
      "display_name": "Python 3"
    },
    "gpuClass": "standard"
  },
  "nbformat": 4,
  "nbformat_minor": 0
}